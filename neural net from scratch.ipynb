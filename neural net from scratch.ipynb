{
 "cells": [
  {
   "cell_type": "markdown",
   "id": "d1bb8c29-c443-4b14-9142-5906483fe4c7",
   "metadata": {},
   "source": [
    "## Neural Net math"
   ]
  },
  {
   "cell_type": "markdown",
   "id": "0ad1c025-f84f-4f8a-9b3f-27e85867a61d",
   "metadata": {},
   "source": [
    "#### Given,\n",
    "\n",
    "$H_1 = \\begin{pmatrix} 1 & 0 \\\\ 1 & 0 \\\\ 0 & 1 \\\\ 0 & 1 \\end{pmatrix}$ (weights for input to hidden layer 1)   $B_1 = \\begin{pmatrix} 0.15 \\\\ 0.15 \\\\ 0.15 \\\\ 0.15 \\end{pmatrix}$ (biases for hidden layer 1)\n",
    "\n",
    "$H_2 = \\begin{pmatrix} 1 \\\\ 1 \\\\ 0 \\\\ 1.5 \\end{pmatrix}$ (weights for hidden to output layer 2)    $B_2 = \\begin{pmatrix} 0 \\end{pmatrix}$ (bias for output layer 2)\n",
    "\n",
    "##### Learning rate = 10\n",
    "##### Loss function = Mean squared error"
   ]
  },
  {
   "cell_type": "markdown",
   "id": "dfb87355-1814-4f52-b6f9-5fb97d5b1e99",
   "metadata": {},
   "source": [
    "## Calculating output of the network (via forward propagation) \n",
    "To calculate the output of the 1st hidden layer/ 2 input neurons I will use the following formula: \n",
    "$$ Z_1 = H_1^T X + B_1 $$\n",
    "$$ Z_1 = \\begin{pmatrix} 1 & 1 & 0 & 0 \\\\ 0 & 0 & 1 & 1 \\end{pmatrix}^T \\begin{pmatrix} 1 \\\\ 0  \\end{pmatrix} + \\begin{pmatrix} 0.15 \\\\ 0.15 \\\\ 0.15 \\\\ 0.15 \\end{pmatrix} $$\n",
    "$$ Z_1 = \\begin{pmatrix} 1 \\\\ 0 \\\\ 1 \\\\ 0 \\end{pmatrix} + \\begin{pmatrix} 0.15 \\\\ 0.15 \\\\ 0.15 \\\\ 0.15 \\end{pmatrix} = \\begin{pmatrix} 1.15 \\\\ 0.15 \\\\ 1.15 \\\\ 0.15 \\end{pmatrix}$$\n",
    "\n",
    "As per the problem statement the activation function is tanh\n",
    "To calculate the output after the activation function for the input neurons I will use the following formula for tanh:\n",
    "$$ tanh(x) = \\frac{e^{x} - e^{-x}}{e^{x} + e^{-x}} $$\n",
    "\n",
    "So Applying the tanh activation function to get the input layer/ 2 neurons output( tanh function will be applied elementwise for each value of the vector Z_1 ):\n",
    "$$ A_1 = \\tanh(Z_1) $$\n",
    "$$ A_1 = \\begin{pmatrix} \\tanh(1.15) \\\\ \\tanh(0.15) \\\\ \\tanh(1.15) \\\\ \\tanh(0.15) \\end{pmatrix} = \\begin{pmatrix} 0.81775408 \\\\ 0.14888503 \\\\ 0.81775408 \\\\ 0.14888503 \\end{pmatrix}$$ \n",
    "\n",
    "To calculate the output of the 2nd hidden layer/ 4 hidden neurons I will use the following formula: \n",
    "$$ Z_2 = H_2^T X + B_1 $$\n",
    "$$ Z_2 = \\begin{pmatrix} 1 \\\\ 1 \\\\ 0 \\\\ 1.5 \\end{pmatrix}^T \\begin{pmatrix} 0.81775408 \\\\ 0.14888503 \\\\ 0.81775408 \\\\ 0.14888503 \\end{pmatrix} + \\begin{pmatrix} 0 \\end{pmatrix} = \\begin{pmatrix} 1.18996666 \\end{pmatrix} + \\begin{pmatrix} 0 \\end{pmatrix} = \\begin{pmatrix} 1.18996666 \\end{pmatrix}$$\n",
    "\n",
    "So Applying the tanh activation function to get the hidden layer/ 4 neurons output( tanh function will be applied elementwise for each value of the vector Z_2 ):\n",
    "$$ A_2 = \\tanh(Z_2) $$\n",
    "$$ A_2 = \\begin{pmatrix} \\tanh(1.18996666) \\end{pmatrix} = 0.83056853 =0.831$$  \n",
    "\n",
    "## Answer: \n",
    "#### the output of the network (via forward propagation) given an input of [1, 0]: 0.831 (As expected from the problem statement) "
   ]
  },
  {
   "cell_type": "markdown",
   "id": "292e519f-811f-4f09-a89b-3c6a876a0191",
   "metadata": {},
   "source": [
    "## Calculating the new H2 and B2 matrices (via backward propogation)\n",
    "Standard gradient descent equation for updating weights and bias is as follows:\n",
    "$$ H_{new} = H_{old} - \\alpha \\cdot \\frac{\\partial E}{\\partial H} $$\n",
    "$$ B_{new} = B_{old} - \\alpha \\cdot \\frac{\\partial E}{\\partial B} $$\n",
    "Alpha is the learning rate \n",
    "For mean squared error the weights error and bias error as follows: \n",
    "$$ \\frac{\\partial E}{\\partial H} = X^T \\frac{\\partial E}{\\partial Y} \\quad \\text{and} \\quad \\frac{\\partial E}{\\partial B} = \\frac{\\partial E}{\\partial Y}$$\n",
    "Now tht loss function/ output error formula is as follows:\n",
    "$$ \\frac{\\partial E}{\\partial Y} = \\frac{2}{n}(Y-Y^*)$$\n",
    "Here Y is the actual label and Y* is the predicted label and n is the number of sample. We know the value of A2 which is the prediction value for the network and the value of Y (OR gate output for [1 0] input is 1). we can plug in the values in the output error for last activation layer formula as following:\n",
    "$$ \\frac{\\partial E}{\\partial Y} = \\frac{2}{1}(1-A_2) = \\frac{2}{1}(0.831-1) = \\begin{pmatrix}-0.338\\end{pmatrix}$$\n",
    "\n",
    "Now the formula to calculate the input error to the activation layer using derivative of tanh function and the output error is as following:\n",
    "$$ \\frac{\\partial E}{\\partial x} = \\frac{\\partial E}{\\partial Y}\\odot f^\\prime(x)$$\n",
    "Now we will calculate derivative of tanh function with the value of Z2 which is input to the activation layer:\n",
    "$$ f^\\prime(x) = tanh^\\prime(x) = tanh^\\prime(Z_2) = = tanh^\\prime(1.1899) = 1-(tanh(1.189))^2 =\\begin{pmatrix}0.311\\end{pmatrix} $$\n",
    "So input error to the activation layer\n",
    "$$ \\frac{\\partial E}{\\partial x} = \\frac{\\partial E}{\\partial Y}\\odot f^\\prime(x) = \\begin{pmatrix}-0.338 \\end{pmatrix} \\odot \\begin{pmatrix} 0.311\\end{pmatrix} = \\begin{pmatrix}-0.105\\end{pmatrix} $$\n",
    "This value is going to be the output error to the Fully connected layer before the activation layer. Now I will plug the value of output error and learning rate =10 in the bias and weight error equation:\n",
    "$$ B_{new} = B_{old} - \\alpha * \\frac{\\partial E}{\\partial Y} = -10 *(-0.105) = 1.05$$\n",
    "$$ B_2 = 1.05 $$\n",
    "\n",
    "## Answer\n",
    "#### The new B2 is B2 =1.05"
   ]
  },
  {
   "cell_type": "markdown",
   "id": "2a73ba28-ef5c-4770-a535-f88e7f93adee",
   "metadata": {},
   "source": [
    "Now following the same principle we will calculate weight error and the updated H2:\n",
    "$$ \\frac{\\partial E}{\\partial H} = X^T \\frac{\\partial E}{\\partial Y} = (A_1)^T \\frac{\\partial E}{\\partial Y} = \\begin{pmatrix} 0.81775408 \\\\ 0.14888503 \\\\ 0.81775408 \\\\ 0.14888503 \\end{pmatrix}^T * -0.105 = \\begin{pmatrix} 0.085 & 0.015 & 0.085 & 0.015 \\end{pmatrix} $$\n",
    "Now Updating H2\n",
    "$$ H_{new} = H_{old} - \\alpha \\cdot \\frac{\\partial E}{\\partial H} => H_{2} = H_{2 old} - 10 * \\begin{pmatrix} 0.085 & 0.015 & 0.085 & 0.015\\end{pmatrix} = \\begin{pmatrix} 1 & 1 & 0 & 1.5 \\end{pmatrix} -\\begin{pmatrix} 0.85 & 0.15 & 0.85 & 0.15\\end{pmatrix} $$\n",
    "$$ H_2 = \\begin{pmatrix} 1.85 & 1.15 & 0.85 & 1.65 \\end{pmatrix} $$\n",
    "## Answer\n",
    "#### The new H2 is [1.85 1.15 0.85 1.65]"
   ]
  },
  {
   "cell_type": "markdown",
   "id": "8dd0d39e-b2e8-4d72-9ef6-4199dd82b622",
   "metadata": {},
   "source": [
    "# Answer to Question 2"
   ]
  },
  {
   "cell_type": "markdown",
   "id": "e6cc18a7-f7d1-4d96-9ccc-e5bcadd46dc4",
   "metadata": {},
   "source": [
    "## General testing of my implementation's fit and predict method"
   ]
  },
  {
   "cell_type": "code",
   "execution_count": 1,
   "id": "34f80314-049b-4741-957d-6ac4c1896ee5",
   "metadata": {},
   "outputs": [],
   "source": [
    "import numpy as np\n",
    "import pandas as pd\n",
    "import matplotlib.pyplot as plt\n",
    "from nnet import FCLayer, ActivationLayer, Network"
   ]
  },
  {
   "cell_type": "code",
   "execution_count": 2,
   "id": "2daf5e04-79cf-4f5c-a4cf-628c7dbbf9c4",
   "metadata": {},
   "outputs": [
    {
     "name": "stdout",
     "output_type": "stream",
     "text": [
      "Epoch 1/10 completed. Training error: 4.605769301596112\n",
      "Epoch 2/10 completed. Training error: 4.23999875828495\n",
      "Epoch 3/10 completed. Training error: 4.056387615672711\n",
      "Epoch 4/10 completed. Training error: 4.083031723720738\n",
      "Epoch 5/10 completed. Training error: 3.9993136619164638\n",
      "Epoch 6/10 completed. Training error: 4.032342038135992\n",
      "Epoch 7/10 completed. Training error: 3.9545941733771284\n",
      "Epoch 8/10 completed. Training error: 3.9584623080110966\n",
      "Epoch 9/10 completed. Training error: 3.863820220616657\n",
      "Epoch 10/10 completed. Training error: 3.820217535027145\n",
      "\n",
      "\n",
      "10/10 epochs completed\n"
     ]
    }
   ],
   "source": [
    "X = np.reshape([[0, 0], [0, 1], [1, 0], [1, 1]], (4, 2, 1))\n",
    "Y = np.reshape([[0], [1], [1], [0]], (4, 1, 1))\n",
    "\n",
    "Nnet = Network()\n",
    "Nnet.add(FCLayer(2, 3))\n",
    "Nnet.add(ActivationLayer(ActivationLayer.tanh, ActivationLayer.tanh_prime))\n",
    "Nnet.add(FCLayer(3, 1))\n",
    "Nnet.add(ActivationLayer(ActivationLayer.tanh, ActivationLayer.tanh_prime))\n",
    "\n",
    "Nnet.fit(X, Y, epochs=10, learning_rate=0.1, propogation_op=False)"
   ]
  },
  {
   "cell_type": "code",
   "execution_count": 3,
   "id": "0c9d3fbd-7cf2-45b1-86ed-94b983a67a8d",
   "metadata": {},
   "outputs": [
    {
     "name": "stdout",
     "output_type": "stream",
     "text": [
      "Predictions:\n",
      "Input: [0 0] => Prediction: 0\n",
      "Input: [0 1] => Prediction: 1\n",
      "Input: [1 0] => Prediction: 0\n",
      "Input: [1 1] => Prediction: 0\n"
     ]
    }
   ],
   "source": [
    "Nnet.predict(X)"
   ]
  },
  {
   "cell_type": "markdown",
   "id": "a86f6e61-bf50-4b18-b43c-33a99d5cfa20",
   "metadata": {},
   "source": [
    "## Individual test for each layer class"
   ]
  },
  {
   "cell_type": "markdown",
   "id": "d9cbc4d9-f131-44c9-933d-ef721a25f06d",
   "metadata": {},
   "source": [
    "### Manual Calculation for the layers and forward and backward propogation"
   ]
  },
  {
   "cell_type": "code",
   "execution_count": 4,
   "id": "c4754359-5fae-47b5-a7fa-9eb85612b953",
   "metadata": {},
   "outputs": [
    {
     "data": {
      "text/plain": [
       "(array([[1. ],\n",
       "        [1.7]]),\n",
       " array([[0.09, 0.18],\n",
       "        [0.31, 0.42]]),\n",
       " array([[0.49],\n",
       "        [0.61]]),\n",
       " array([[-0.2],\n",
       "        [-0.2]]),\n",
       " array([[0.73105858],\n",
       "        [0.88079708]]),\n",
       " array([[ 0.19661193],\n",
       "        [-0.10499359]]))"
      ]
     },
     "execution_count": 4,
     "metadata": {},
     "output_type": "execute_result"
    }
   ],
   "source": [
    "import numpy as np\n",
    "\n",
    "def sigmoid(x):\n",
    "    return 1 / (1 + np.exp(-x))\n",
    "\n",
    "def sigmoid_prime(x):\n",
    "    s = sigmoid(x)\n",
    "    return s * (1 - s)\n",
    "\n",
    "# Manual calculations for expected outputs and updates\n",
    "X = np.array([[1], [2]])  # Simple input vector (2x1)\n",
    "W = np.array([[0.1, 0.2], [0.3, 0.4]])  # weights for FCLayer (2x2)\n",
    "b = np.array([[0.5], [0.6]])  # bias for FCLayer (2x1)\n",
    "dE_dY = np.array([[1], [-1]])  # error gradient for backward propagation (2x1)\n",
    "learning_rate = 0.01\n",
    "\n",
    "# Expected forward propagation output for FCLayer\n",
    "Y_expected = np.dot(W, X) + b\n",
    "\n",
    "# Expected backward propagation updates for FCLayer\n",
    "dE_dW_expected = np.dot(dE_dY, X.T)\n",
    "dE_db_expected = dE_dY\n",
    "W_updated_expected = W - learning_rate * dE_dW_expected\n",
    "b_updated_expected = b - learning_rate * dE_db_expected\n",
    "dE_dX_expected = np.dot(W.T, dE_dY)\n",
    "\n",
    "# Expected forward propagation output for ActivationLayer using sigmoid\n",
    "Y_sigmoid_expected = sigmoid(X)\n",
    "\n",
    "# Expected backward propagation output for ActivationLayer\n",
    "dE_dX_sigmoid_expected = dE_dY * sigmoid_prime(X)\n",
    "\n",
    "Y_expected, W_updated_expected, b_updated_expected, dE_dX_expected, Y_sigmoid_expected, dE_dX_sigmoid_expected\n"
   ]
  },
  {
   "cell_type": "markdown",
   "id": "ec4f11f1-78a5-41f2-b4d0-fe211902c9df",
   "metadata": {},
   "source": [
    "### Calculation using the implemented layer classes"
   ]
  },
  {
   "cell_type": "code",
   "execution_count": 5,
   "id": "de3a6fce-7ede-4f10-9d08-f779a9639b4e",
   "metadata": {},
   "outputs": [
    {
     "data": {
      "text/plain": [
       "(array([[1. ],\n",
       "        [1.7]]),\n",
       " array([[0.09, 0.18],\n",
       "        [0.31, 0.42]]),\n",
       " array([[0.49],\n",
       "        [0.61]]),\n",
       " array([[-0.22],\n",
       "        [-0.24]]),\n",
       " array([[0.73105858],\n",
       "        [0.88079708]]),\n",
       " array([[ 0.19661193],\n",
       "        [-0.10499359]]))"
      ]
     },
     "execution_count": 5,
     "metadata": {},
     "output_type": "execute_result"
    }
   ],
   "source": [
    "fc_layer_test = FCLayer(input_size=2, output_size=2)\n",
    "fc_layer_test.weights = W  \n",
    "fc_layer_test.bias = b    \n",
    "\n",
    "fc_layer_output_test = fc_layer_test.forward_propagation(X)\n",
    "\n",
    "\n",
    "fc_layer_input_error_test = fc_layer_test.backward_propagation(dE_dY, learning_rate)\n",
    "\n",
    "\n",
    "activation_layer_test = ActivationLayer(sigmoid, sigmoid_prime)\n",
    "activation_layer_output_test = activation_layer_test.forward_propagation(X)\n",
    "activation_layer_input_error_test = activation_layer_test.backward_propagation(dE_dY, learning_rate)\n",
    "\n",
    "fc_layer_output_test, fc_layer_test.weights, fc_layer_test.bias, fc_layer_input_error_test, activation_layer_output_test, activation_layer_input_error_test"
   ]
  },
  {
   "cell_type": "markdown",
   "id": "72fad65c-7492-4d50-8b28-e96a3a1d5992",
   "metadata": {},
   "source": [
    "### From both sets of output from the manual calculation and implementation output we see all the corresponding values match up. So both the layer classes are functioning as expected"
   ]
  },
  {
   "cell_type": "markdown",
   "id": "292a31be-f0a3-41c7-b0d5-0d52633297f5",
   "metadata": {},
   "source": [
    "## Testing network class using the structure in the neural net math section at the top of the notebook"
   ]
  },
  {
   "cell_type": "code",
   "execution_count": 6,
   "id": "6f434a76-6138-4145-855c-737324bcd723",
   "metadata": {},
   "outputs": [
    {
     "name": "stdout",
     "output_type": "stream",
     "text": [
      "Forward propogation output for layer_1: \n",
      "[[1.15]\n",
      " [0.15]\n",
      " [1.15]\n",
      " [0.15]]\n",
      "\n",
      "Forward propogation output for layer_1_activation: \n",
      "[[0.81775408]\n",
      " [0.14888503]\n",
      " [0.81775408]\n",
      " [0.14888503]]\n",
      "\n",
      "Forward propogation output for layer_2: \n",
      "[[1.18996666]]\n",
      "\n",
      "Forward propogation output for layer_2_activation: \n",
      "[[0.83056853]]\n",
      "\n",
      "Backpropagation output for layer_2:\n",
      " Weights: [[1.85946238 1.15647869 0.85946238 1.65647869]]\n",
      " Bias:[1.05100347]\n",
      "\n",
      "Backpropagation output for layer_1:\n",
      " Weights: [[1.64741759 0.        ]\n",
      " [1.18852025 1.        ]\n",
      " [1.29924298 0.        ]\n",
      " [1.70237331 1.        ]]\n",
      " Bias:[0.79741759]\n",
      "\n",
      "Epoch 1/1 completed. Training error: 0.028707023414130534\n",
      "\n",
      "\n",
      "1/1 epochs completed\n"
     ]
    }
   ],
   "source": [
    "# Setting number of neurons, weight and bias for Dense layer 1\n",
    "layer_1 = FCLayer(input_size=2, output_size=4, name='layer_1')\n",
    "layer_1.weights = np.array([\n",
    "    [1.0, 0.0, 1.0, 0.0], \n",
    "    [0.0, 1.0, 0.0, 1.0]]).T.astype(np.float64)\n",
    "layer_1.bias = np.array([\n",
    "    [0.15], [0.15], [0.15], [0.15]]).astype(np.float64)\n",
    "# Setting Activation layer after layer 1\n",
    "layer_1_activation = ActivationLayer(ActivationLayer.tanh, ActivationLayer.tanh_prime, name='layer_1_activation')\n",
    "\n",
    "# Setting number of neurons, weight and bias for Dense layer 2\n",
    "layer_2 = FCLayer(input_size=4, output_size=1, name='layer_2')\n",
    "layer_2.weights = np.array([\n",
    "    [1.0], [1.0], [0.0], [1.5]]).T.astype(np.float64)\n",
    "layer_2.bias = np.array([\n",
    "    [0.0]]).astype(np.float64)\n",
    "# Setting Activation layer after layer 2\n",
    "layer_2_activation = ActivationLayer(ActivationLayer.tanh, ActivationLayer.tanh_prime, name='layer_2_activation')\n",
    "\n",
    "Nnet_test = Network()\n",
    "Nnet_test.add(layer_1)\n",
    "Nnet_test.add(layer_1_activation)\n",
    "Nnet_test.add(layer_2)\n",
    "Nnet_test.add(layer_2_activation)\n",
    "\n",
    "# Input of [1,0] and output 1 as described in problem 1\n",
    "X = np.reshape([[1, 0]], (1, 2, 1))\n",
    "Y = np.reshape([[1]], (1, 1, 1))\n",
    "\n",
    "Nnet_test.fit(X, Y, epochs=1, learning_rate=10.0, propogation_op=True)"
   ]
  },
  {
   "cell_type": "markdown",
   "id": "28b55cff-830c-476a-b10a-a41bcc7ce1c0",
   "metadata": {},
   "source": [
    "#### Results comparison with structure provided in part1\n",
    "from the output of each layer for forward and back propogation we can see that the output of the network which is \"Forward propogation output for layer_2_activation\" is 0.83056853 from our network which is equal to 0.831 from the answer provided in queestion 1.\n",
    "\n",
    "from the output of each layer for forward and back propogation we can see that updated $H_2$ and $B_2$ matrices of the network which is \"Backpropagation output for layer_2\" weights is [1.85946238 1.15647869 0.85946238 1.65647869] and Bias is [1.05] which is equal to the answers provided in question 1"
   ]
  },
  {
   "cell_type": "markdown",
   "id": "e703e654-ff83-4bba-b4ab-1f85274e5bb3",
   "metadata": {},
   "source": [
    "## Generating Validation Loss curve for an Exclusive Or function"
   ]
  },
  {
   "cell_type": "code",
   "execution_count": 7,
   "id": "bc7a915b-b7a5-4abf-bf46-1814f4344f48",
   "metadata": {},
   "outputs": [],
   "source": [
    "# Generating data\n",
    "X_xor = np.array([[0, 0], [0, 1], [1, 0], [1, 1]])\n",
    "Y_xor = np.array([[0], [1], [1], [0]])\n",
    "\n",
    "# Replicating the data and reshaping it to prepare for the network \n",
    "X_xor_replicated = np.tile(X_xor, (250, 1))\n",
    "Y_xor_replicated = np.tile(Y_xor, (250, 1))\n",
    "\n",
    "X_train = np.reshape(X_xor_replicated[200:], (800,2,1))\n",
    "y_train = np.reshape(Y_xor_replicated[200:], (800,1,1))\n",
    "X_val = np.reshape(X_xor_replicated[:200], (200,2,1))\n",
    "y_val = np.reshape(Y_xor_replicated[:200], (200,1,1))"
   ]
  },
  {
   "cell_type": "code",
   "execution_count": 8,
   "id": "186dad42-ac41-4a0a-b307-fa2005f0494f",
   "metadata": {},
   "outputs": [],
   "source": [
    "Nnet_xor = Network()\n",
    "Nnet_xor.add(FCLayer(2, 3))\n",
    "Nnet_xor.add(ActivationLayer(ActivationLayer.tanh, ActivationLayer.tanh_prime))\n",
    "Nnet_xor.add(FCLayer(3, 1))\n",
    "Nnet_xor.add(ActivationLayer(ActivationLayer.tanh, ActivationLayer.tanh_prime))"
   ]
  },
  {
   "cell_type": "code",
   "execution_count": 9,
   "id": "49628cb1-f4a9-4389-b44c-a8d33ff7903d",
   "metadata": {},
   "outputs": [
    {
     "name": "stdout",
     "output_type": "stream",
     "text": [
      "Epoch 1/5 completed. Training error: 192.65308316883886\n",
      "Epoch 2/5 completed. Training error: 3.421530717549656\n",
      "Epoch 3/5 completed. Training error: 0.6300391332444852\n",
      "Epoch 4/5 completed. Training error: 0.3452442565454389\n",
      "Epoch 5/5 completed. Training error: 0.23471815293089188\n",
      "\n",
      "\n",
      "5/5 epochs completed\n"
     ]
    }
   ],
   "source": [
    "Nnet_xor.fit(X=X_train, Y=y_train, epochs=5, learning_rate=0.1, X_val=X_val, Y_val=y_val, propogation_op=False)"
   ]
  },
  {
   "cell_type": "code",
   "execution_count": 10,
   "id": "ed9307f3-ba18-455b-b18c-8601f194f634",
   "metadata": {},
   "outputs": [
    {
     "data": {
      "image/png": "[encoded data removed]",
      "text/plain": [
       "<Figure size 640x480 with 1 Axes>"
      ]
     },
     "metadata": {},
     "output_type": "display_data"
    }
   ],
   "source": [
    "indices = range(1, len(Nnet_xor.train_loss) + 1)\n",
    "\n",
    "plt.plot(indices, Nnet_xor.validation_loss, label='Validation Loss')  \n",
    "plt.legend()\n",
    "plt.xlabel(\"Loss\")\n",
    "plt.ylabel(\"Number of Epochs\")\n",
    "plt.title('Validation Loss curve for XOR data')\n",
    "plt.show()"
   ]
  },
  {
   "cell_type": "markdown",
   "id": "b15959fb-d537-4ce9-a515-e071432e7513",
   "metadata": {},
   "source": [
    "## Generating Validation Loss curves for classifying data as stress/not stressed."
   ]
  },
  {
   "cell_type": "code",
   "execution_count": 16,
   "id": "e1d353e5-99b6-4a6a-997a-8542fbcba8c8",
   "metadata": {},
   "outputs": [],
   "source": [
    "# Generating the stressed and non stressed data and reshaping it to prepare for the network \n",
    "not_streesed_mu = np.array([60, 50])\n",
    "not_streesed_cov = np.array([[1, 1], [1, 1]])\n",
    "stressed_mu = np.array([120, 35])\n",
    "stressed_cov = np.array([[1, 0], [0, 1]])\n",
    "\n",
    "not_streesed_data = np.round(np.random.multivariate_normal(not_streesed_mu, not_streesed_cov, 200))\n",
    "stressed_data = np.round(np.random.multivariate_normal(stressed_mu, stressed_cov, 200))\n",
    "\n",
    "not_streesed_df = pd.DataFrame(not_streesed_data, columns=['Feature1', 'Feature2'])\n",
    "not_streesed_df['Labels'] = 0\n",
    "stressed_df = pd.DataFrame(stressed_data, columns=['Feature1', 'Feature2'])\n",
    "stressed_df['Labels'] = 1\n",
    "\n",
    "dataframe = pd.concat([not_streesed_df, stressed_df], ignore_index=True)"
   ]
  },
  {
   "cell_type": "code",
   "execution_count": 12,
   "id": "2ccbed25-0f2a-471f-9f3b-522adba134da",
   "metadata": {},
   "outputs": [],
   "source": [
    "from sklearn.model_selection import train_test_split\n",
    "\n",
    "X = dataframe[['Feature1', 'Feature2']].values \n",
    "y = dataframe['Labels'].values  \n",
    "\n",
    "X_train, X_val, y_train, y_val = train_test_split(X, y, test_size=60)\n",
    "\n",
    "X_train = np.reshape(X_train, (340,2,1))\n",
    "X_val = np.reshape(X_val, (60,2,1))\n",
    "y_train = np.reshape(y_train, (340,1,1))\n",
    "y_val = np.reshape(y_val, (60,1,1))"
   ]
  },
  {
   "cell_type": "code",
   "execution_count": 13,
   "id": "aa6ebc98-d93b-42d2-9f28-bdcabf708cb6",
   "metadata": {},
   "outputs": [],
   "source": [
    "Nnet_stress = Network()\n",
    "Nnet_stress.add(FCLayer(2, 3))\n",
    "Nnet_stress.add(ActivationLayer(ActivationLayer.tanh, ActivationLayer.tanh))\n",
    "Nnet_stress.add(FCLayer(3, 1))\n",
    "Nnet_stress.add(ActivationLayer(ActivationLayer.tanh, ActivationLayer.tanh_prime))"
   ]
  },
  {
   "cell_type": "code",
   "execution_count": 14,
   "id": "0cad18e5-f23a-431c-9c0d-2e940a3e1304",
   "metadata": {},
   "outputs": [
    {
     "name": "stdout",
     "output_type": "stream",
     "text": [
      "Epoch 1/20 completed. Training error: 158.45189812264414\n",
      "Epoch 2/20 completed. Training error: 117.56446970005048\n",
      "Epoch 3/20 completed. Training error: 114.5429027673337\n",
      "Epoch 4/20 completed. Training error: 26.17794438316824\n",
      "Epoch 5/20 completed. Training error: 14.16848174942785\n",
      "Epoch 6/20 completed. Training error: 7.2195142873861835\n",
      "Epoch 7/20 completed. Training error: 4.825512813919317\n",
      "Epoch 8/20 completed. Training error: 2.7567302381322896\n",
      "Epoch 9/20 completed. Training error: 1.4007022875204678\n",
      "Epoch 10/20 completed. Training error: 2.3791711163399367\n",
      "Epoch 11/20 completed. Training error: 1.2957019965631622\n",
      "Epoch 12/20 completed. Training error: 1.2557188438139306\n",
      "Epoch 13/20 completed. Training error: 1.2370548478614125\n",
      "Epoch 14/20 completed. Training error: 1.2166125273464807\n",
      "Epoch 15/20 completed. Training error: 1.2002601890818907\n",
      "Epoch 16/20 completed. Training error: 1.186601974870405\n",
      "Epoch 17/20 completed. Training error: 0.13344301985450105\n",
      "Epoch 18/20 completed. Training error: 1.1635850200463889\n",
      "Epoch 19/20 completed. Training error: 1.1556103728871663\n",
      "Epoch 20/20 completed. Training error: 0.1071426314511243\n",
      "\n",
      "\n",
      "20/20 epochs completed\n"
     ]
    }
   ],
   "source": [
    "Nnet_stress.fit(X=X_train, Y=y_train, epochs=20, learning_rate=0.01, X_val=X_val, Y_val=y_val, propogation_op=False)"
   ]
  },
  {
   "cell_type": "code",
   "execution_count": 15,
   "id": "ac1f0b46-dde6-4f1c-be1a-9f5d36e16f01",
   "metadata": {},
   "outputs": [
    {
     "data": {
      "image/png": "[encoded data removed]",
      "text/plain": [
       "<Figure size 640x480 with 1 Axes>"
      ]
     },
     "metadata": {},
     "output_type": "display_data"
    }
   ],
   "source": [
    "from matplotlib.ticker import MaxNLocator\n",
    "\n",
    "indices = range(1, len(Nnet_stress.train_loss) + 1)\n",
    "\n",
    "plt.plot(indices, Nnet_stress.validation_loss, label= 'Validation Loss')\n",
    "plt.gca().xaxis.set_major_locator(MaxNLocator(integer=True))\n",
    "plt.legend()\n",
    "plt.show()"
   ]
  }
 ],
 "metadata": {
  "kernelspec": {
   "display_name": "Python 3 (ipykernel)",
   "language": "python",
   "name": "python3"
  },
  "language_info": {
   "codemirror_mode": {
    "name": "ipython",
    "version": 3
   },
   "file_extension": ".py",
   "mimetype": "text/x-python",
   "name": "python",
   "nbconvert_exporter": "python",
   "pygments_lexer": "ipython3",
   "version": "3.11.4"
  }
 },
 "nbformat": 4,
 "nbformat_minor": 5
}
